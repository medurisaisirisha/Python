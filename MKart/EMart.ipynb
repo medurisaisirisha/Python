{
 "cells": [
  {
   "cell_type": "code",
   "execution_count": 1,
   "id": "e0cb3876",
   "metadata": {},
   "outputs": [],
   "source": [
    "from datetime import date as dt\n",
    "from datetime import datetime\n",
    "import os"
   ]
  },
  {
   "cell_type": "code",
   "execution_count": 2,
   "id": "e750e6df",
   "metadata": {},
   "outputs": [],
   "source": [
    "file_path='D:\\\\NamasteSql\\\\NamasteKart\\\\incoming_files'\n",
    "rejected_file_path='D:\\\\NamasteSql\\\\NamasteKart\\\\rejected_files'\n",
    "success_file_path='D:\\\\NamasteSql\\\\NamasteKart\\\\success_files'"
   ]
  },
  {
   "cell_type": "code",
   "execution_count": 3,
   "id": "3e1e7b9e",
   "metadata": {},
   "outputs": [],
   "source": [
    "filelist=os.listdir(file_path)"
   ]
  },
  {
   "cell_type": "code",
   "execution_count": 4,
   "id": "db762c37",
   "metadata": {},
   "outputs": [
    {
     "name": "stdout",
     "output_type": "stream",
     "text": [
      "['orders_1.csv', 'orders_2.csv']\n"
     ]
    }
   ],
   "source": [
    "print(filelist)"
   ]
  },
  {
   "cell_type": "code",
   "execution_count": 5,
   "id": "ef694037",
   "metadata": {},
   "outputs": [
    {
     "name": "stdout",
     "output_type": "stream",
     "text": [
      "orders_1.csv\n",
      "orders_2.csv\n"
     ]
    }
   ],
   "source": [
    "for order in os.listdir('D:\\\\NamasteSql\\\\NamasteKart\\\\incoming_files'):\n",
    "    print(order)"
   ]
  },
  {
   "cell_type": "code",
   "execution_count": 6,
   "id": "7e110c01",
   "metadata": {},
   "outputs": [],
   "source": [
    "orders=[]\n",
    "for order in os.listdir(file_path):\n",
    "    path=file_path+'\\\\'+order\n",
    "    f=open(path,mode='r')\n",
    "    file_list=f.readlines()\n",
    "    orders.append(file_list)\n",
    "    f.close()"
   ]
  },
  {
   "cell_type": "code",
   "execution_count": 7,
   "id": "9a1bc897",
   "metadata": {},
   "outputs": [
    {
     "data": {
      "text/plain": [
       "['order_id,order_date,product_id,quantity,sales,city\\n',\n",
       " '1,2024-01-01,100,1,50000,Bangalore\\n',\n",
       " '2,2024-02-01,200,2,9000,Mumbai\\n',\n",
       " '3,2024-01-03,200,2,4500,Mumbai\\n',\n",
       " '4,2024-01-04,500,3,30000,Bangalore\\n']"
      ]
     },
     "execution_count": 7,
     "metadata": {},
     "output_type": "execute_result"
    }
   ],
   "source": [
    "file_list"
   ]
  },
  {
   "cell_type": "code",
   "execution_count": 8,
   "id": "abfe4fdf",
   "metadata": {},
   "outputs": [],
   "source": [
    "def read_master_file():\n",
    "    f=open('D:\\\\NamasteSql\\\\NamasteKart\\\\product_master.csv',mode='r')\n",
    "    file_master=f.readlines()\n",
    "    f.close() \n",
    "    return file_master"
   ]
  },
  {
   "cell_type": "code",
   "execution_count": 9,
   "id": "02e1f70c",
   "metadata": {},
   "outputs": [],
   "source": [
    "file_master=read_master_file()"
   ]
  },
  {
   "cell_type": "code",
   "execution_count": 10,
   "id": "0741a1ae",
   "metadata": {},
   "outputs": [
    {
     "name": "stdout",
     "output_type": "stream",
     "text": [
      "['product_id,product_name,price,category\\n', '100,iphone,50000,mobile\\n', '200,chair,4500,furniture\\n', '300,table,10000,furniture\\n', '400,tv,25000,electronics\\n', '500,fridge,10000,electronics\\n']\n"
     ]
    }
   ],
   "source": [
    "print(file_master)"
   ]
  },
  {
   "cell_type": "code",
   "execution_count": 11,
   "id": "7f9dff7a",
   "metadata": {},
   "outputs": [],
   "source": [
    "product_master_id=[]\n",
    "product_master_name=[]\n",
    "product_master_price={}\n",
    "product_master_category=[]\n",
    "for i in range(1,len(file_master)):\n",
    "    record_list=file_master[i].split(',')\n",
    "    product_master_id.append(record_list[0])\n",
    "    product_master_name.append(record_list[1])\n",
    "    product_master_price[(record_list[0])]=record_list[2]\n",
    "    product_master_category.append(record_list[3])\n",
    "    "
   ]
  },
  {
   "cell_type": "code",
   "execution_count": 12,
   "id": "197f057b",
   "metadata": {},
   "outputs": [
    {
     "data": {
      "text/plain": [
       "['100', '200', '300', '400', '500']"
      ]
     },
     "execution_count": 12,
     "metadata": {},
     "output_type": "execute_result"
    }
   ],
   "source": [
    "product_master_id"
   ]
  },
  {
   "cell_type": "code",
   "execution_count": 13,
   "id": "aae81a33",
   "metadata": {},
   "outputs": [],
   "source": [
    "def validate_product(product_id):\n",
    "    if product_id in product_master_id:\n",
    "        return True\n",
    "    else:\n",
    "        return False"
   ]
  },
  {
   "cell_type": "code",
   "execution_count": 14,
   "id": "143777d2",
   "metadata": {},
   "outputs": [],
   "source": [
    "def validate_city(city_name):\n",
    "    if(city_name==\"Mumbai\" or city_name==\"Bangalore\"):\n",
    "        return True\n",
    "    else:\n",
    "        return False"
   ]
  },
  {
   "cell_type": "code",
   "execution_count": 15,
   "id": "064dc165",
   "metadata": {},
   "outputs": [],
   "source": [
    "def validate_order_date(order_date):\n",
    "    date_object = datetime.strptime(order_date, '%Y-%m-%d').date()\n",
    "    print(date_object)\n",
    "    if(date_object<dt.today()):\n",
    "        return True\n",
    "    else:\n",
    "        return False"
   ]
  },
  {
   "cell_type": "code",
   "execution_count": 16,
   "id": "c739f504",
   "metadata": {},
   "outputs": [],
   "source": [
    "def sales_amount(quantity,sales,product_id):\n",
    "    return int(quantity)*int(sales)*int(product_master_price[product_id])"
   ]
  },
  {
   "cell_type": "code",
   "execution_count": 17,
   "id": "49190a39",
   "metadata": {},
   "outputs": [],
   "source": [
    "def validate_input(file_list):\n",
    "    for j in range(1,len(file_list)):\n",
    "        order_details=file_list[j].split(\",\")\n",
    "        order_id=order_details[0].strip()\n",
    "        order_date=order_details[1].strip()\n",
    "        product_id=order_details[2].strip()\n",
    "        quantity=order_details[3].strip()\n",
    "        sales=order_details[4].strip()\n",
    "        city=order_details[5].strip()\n",
    "        bool_flag=True\n",
    "        verify_product_id=validate_product(product_id)\n",
    "        if(not verify_product_id):\n",
    "            err_msg= \"invalid product id\"\n",
    "            bool_flag=False\n",
    "        total_Sales=sales_amount(quantity,sales,product_id)\n",
    "        verify_date=validate_order_date(order_date)\n",
    "        if(not verify_date):\n",
    "            err_msg= \"invalid date\"\n",
    "            bool_flag=False\n",
    "        verify_city=validate_city(city)\n",
    "        if(not verify_city):\n",
    "            err_msg= \"invalid city\"\n",
    "            bool_flag=False\n",
    "        if(order_date is None or product_id is None or quantity is None or sales is None or city is None ):\n",
    "            err_msg= \"invalid input\"\n",
    "            bool_flag=False\n",
    "        if(bool_flag):\n",
    "            path=success_file_path+\"\\\\\"+str(dt.today())+str(product_id)+str(order_id)+\".csv\"\n",
    "            with open(path,mode='w') as f:\n",
    "                f.write(file_list[j])\n",
    "        else:\n",
    "            path=rejected_file_path+\"\\\\\"+str(dt.today())+str(product_id)+str(order_id)+\".csv\"\n",
    "            with open(path,mode='w') as f:\n",
    "                f.write(file_list[j]+err_msg)\n",
    "            \n",
    "        "
   ]
  },
  {
   "cell_type": "code",
   "execution_count": 18,
   "id": "83ea75de",
   "metadata": {},
   "outputs": [
    {
     "name": "stdout",
     "output_type": "stream",
     "text": [
      "2024-01-01\n",
      "2024-02-01\n",
      "2024-01-03\n",
      "2024-01-04\n"
     ]
    }
   ],
   "source": [
    "validate_input(file_list)"
   ]
  },
  {
   "cell_type": "code",
   "execution_count": null,
   "id": "859d8e0a",
   "metadata": {},
   "outputs": [],
   "source": []
  },
  {
   "cell_type": "code",
   "execution_count": null,
   "id": "ba0d92ac",
   "metadata": {},
   "outputs": [],
   "source": []
  }
 ],
 "metadata": {
  "kernelspec": {
   "display_name": "Python 3 (ipykernel)",
   "language": "python",
   "name": "python3"
  },
  "language_info": {
   "codemirror_mode": {
    "name": "ipython",
    "version": 3
   },
   "file_extension": ".py",
   "mimetype": "text/x-python",
   "name": "python",
   "nbconvert_exporter": "python",
   "pygments_lexer": "ipython3",
   "version": "3.11.5"
  }
 },
 "nbformat": 4,
 "nbformat_minor": 5
}
