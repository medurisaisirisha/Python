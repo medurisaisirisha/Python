{
 "cells": [
  {
   "cell_type": "markdown",
   "id": "ebeac8b6",
   "metadata": {},
   "source": [
    "Problem Statement:\n",
    "\n",
    "create this folder structure \n",
    "NamasteKart\n",
    "NamasteKart->incoming_files\n",
    "NamasteKart->success_files\n",
    "NamasteKart->rejected_files\n",
    "\n",
    "Read all the files from current date folder NamasteKart->incoming_files->YYYYMMDD\n",
    "\n",
    "do the following validations for each order\n",
    "\n",
    "1- product id should be present in product master table\n",
    "\n",
    "2- total sales amount should be (product price from product master table * quantity)\n",
    "\n",
    "3- the order date should not be in future\n",
    "\n",
    "4- any field should not be empty\n",
    "\n",
    "5- The orders should be from Mumbai or Bangalore only.\n",
    "\n",
    "\n",
    "\n",
    "files with no issues should go to NamasteKart->success_files->YYYYMMDD folder \n",
    "\n",
    "if any single orders validation fail then full file should be rejected and that files should go to NamasteKart->rejected_files->YYYYMMDD folder \n",
    "\n",
    "for each rejected file there should be one more file created in the same folder NamasteKart->rejected_files->YYYYMMDD folder with name error_{rejected_file_name}. \n",
    "In this file only order records should be there which failed the validation and there should be one more column for each record specifying the reason of rejection\n",
    "if there are more than one reason of reject for a particular order then both should be there ; separated\n",
    "\n",
    "after processing all the files there should be an email sent to business. In the email mention below details \n",
    "total 10 incoming files , 8 successsful files and 2 rejected files for that day.\n",
    "subject : validation email 2023-06-09"
   ]
  },
  {
   "cell_type": "code",
   "execution_count": 1,
   "id": "e0cb3876",
   "metadata": {},
   "outputs": [],
   "source": [
    "from datetime import date as dt\n",
    "from datetime import datetime\n",
    "import os"
   ]
  },
  {
   "cell_type": "code",
   "execution_count": 2,
   "id": "e750e6df",
   "metadata": {},
   "outputs": [],
   "source": [
    "file_path='D:\\\\NamasteSql\\\\NamasteKart\\\\incoming_files'\n",
    "rejected_file_path='D:\\\\NamasteSql\\\\NamasteKart\\\\rejected_files'\n",
    "success_file_path='D:\\\\NamasteSql\\\\NamasteKart\\\\success_files'"
   ]
  },
  {
   "cell_type": "code",
   "execution_count": 3,
   "id": "3e1e7b9e",
   "metadata": {},
   "outputs": [],
   "source": [
    "filelist=os.listdir(file_path)"
   ]
  },
  {
   "cell_type": "code",
   "execution_count": 4,
   "id": "db762c37",
   "metadata": {},
   "outputs": [
    {
     "name": "stdout",
     "output_type": "stream",
     "text": [
      "['orders_1.csv', 'orders_2.csv']\n"
     ]
    }
   ],
   "source": [
    "print(filelist)"
   ]
  },
  {
   "cell_type": "code",
   "execution_count": 5,
   "id": "ef694037",
   "metadata": {},
   "outputs": [
    {
     "name": "stdout",
     "output_type": "stream",
     "text": [
      "orders_1.csv\n",
      "orders_2.csv\n"
     ]
    }
   ],
   "source": [
    "for order in os.listdir('D:\\\\NamasteSql\\\\NamasteKart\\\\incoming_files'):\n",
    "    print(order)"
   ]
  },
  {
   "cell_type": "code",
   "execution_count": 6,
   "id": "7e110c01",
   "metadata": {},
   "outputs": [],
   "source": [
    "orders=[]\n",
    "try:\n",
    "    for order in os.listdir(file_path):\n",
    "        path=file_path+'\\\\'+order\n",
    "        f=open(path,mode='r')\n",
    "        file_list=f.readlines()\n",
    "        orders.append(file_list)\n",
    "        f.close()\n",
    "except:\n",
    "    print(\"Data not loaded\")"
   ]
  },
  {
   "cell_type": "code",
   "execution_count": 7,
   "id": "9a1bc897",
   "metadata": {},
   "outputs": [
    {
     "data": {
      "text/plain": [
       "['order_id,order_date,product_id,quantity,sales,city\\n',\n",
       " '1,2024-01-01,100,1,50000,Bangalore\\n',\n",
       " '2,2024-02-01,200,2,9000,Mumbai\\n',\n",
       " '3,2024-01-03,200,2,4500,Mumbai\\n',\n",
       " '4,2024-01-04,500,3,30000,Bangalore\\n']"
      ]
     },
     "execution_count": 7,
     "metadata": {},
     "output_type": "execute_result"
    }
   ],
   "source": [
    "file_list"
   ]
  },
  {
   "cell_type": "code",
   "execution_count": 8,
   "id": "abfe4fdf",
   "metadata": {},
   "outputs": [],
   "source": [
    "def read_master_file():\n",
    "    try:\n",
    "        f=open('D:\\\\NamasteSql\\\\NamasteKart\\\\product_master.csv',mode='r')\n",
    "        file_master=f.readlines()\n",
    "        f.close() \n",
    "        return file_master\n",
    "    except:\n",
    "        print('Data not loaded')"
   ]
  },
  {
   "cell_type": "code",
   "execution_count": 9,
   "id": "02e1f70c",
   "metadata": {},
   "outputs": [],
   "source": [
    "file_master=read_master_file()"
   ]
  },
  {
   "cell_type": "code",
   "execution_count": 10,
   "id": "0741a1ae",
   "metadata": {},
   "outputs": [
    {
     "name": "stdout",
     "output_type": "stream",
     "text": [
      "['product_id,product_name,price,category\\n', '100,iphone,50000,mobile\\n', '200,chair,4500,furniture\\n', '300,table,10000,furniture\\n', '400,tv,25000,electronics\\n', '500,fridge,10000,electronics\\n']\n"
     ]
    }
   ],
   "source": [
    "print(file_master)"
   ]
  },
  {
   "cell_type": "code",
   "execution_count": 11,
   "id": "7f9dff7a",
   "metadata": {},
   "outputs": [],
   "source": [
    "product_master_id=[]\n",
    "product_master_name=[]\n",
    "product_master_price={}\n",
    "product_master_category=[]\n",
    "for i in range(1,len(file_master)):\n",
    "    record_list=file_master[i].split(',')\n",
    "    product_master_id.append(record_list[0])\n",
    "    product_master_name.append(record_list[1])\n",
    "    product_master_price[(record_list[0])]=record_list[2]\n",
    "    product_master_category.append(record_list[3])\n",
    "    "
   ]
  },
  {
   "cell_type": "code",
   "execution_count": 12,
   "id": "197f057b",
   "metadata": {},
   "outputs": [
    {
     "data": {
      "text/plain": [
       "['100', '200', '300', '400', '500']"
      ]
     },
     "execution_count": 12,
     "metadata": {},
     "output_type": "execute_result"
    }
   ],
   "source": [
    "product_master_id"
   ]
  },
  {
   "cell_type": "code",
   "execution_count": 13,
   "id": "aae81a33",
   "metadata": {},
   "outputs": [],
   "source": [
    "def validate_product(product_id):\n",
    "    if product_id in product_master_id:\n",
    "        return True\n",
    "    else:\n",
    "        return False"
   ]
  },
  {
   "cell_type": "code",
   "execution_count": 14,
   "id": "143777d2",
   "metadata": {},
   "outputs": [],
   "source": [
    "def validate_city(city_name):\n",
    "    if(city_name==\"Mumbai\" or city_name==\"Bangalore\"):\n",
    "        return True\n",
    "    else:\n",
    "        return False"
   ]
  },
  {
   "cell_type": "code",
   "execution_count": 15,
   "id": "064dc165",
   "metadata": {},
   "outputs": [],
   "source": [
    "def validate_order_date(order_date):\n",
    "    date_object = datetime.strptime(order_date, '%Y-%m-%d').date()\n",
    "    print(date_object)\n",
    "    if(date_object<dt.today()):\n",
    "        return True\n",
    "    else:\n",
    "        return False"
   ]
  },
  {
   "cell_type": "code",
   "execution_count": 16,
   "id": "c739f504",
   "metadata": {},
   "outputs": [],
   "source": [
    "def sales_amount(quantity,sales,product_id):\n",
    "    return int(quantity)*int(sales)*int(product_master_price[product_id])"
   ]
  },
  {
   "cell_type": "code",
   "execution_count": 17,
   "id": "49190a39",
   "metadata": {},
   "outputs": [],
   "source": [
    "def validate_input(file_list):\n",
    "    total_orders=0\n",
    "    success_orders=0\n",
    "    rejected_orders=0\n",
    "    for j in range(1,len(file_list)):\n",
    "        total_orders+=1\n",
    "        order_details=file_list[j].split(\",\")\n",
    "        order_id=order_details[0].strip()\n",
    "        order_date=order_details[1].strip()\n",
    "        product_id=order_details[2].strip()\n",
    "        quantity=order_details[3].strip()\n",
    "        sales=order_details[4].strip()\n",
    "        city=order_details[5].strip()\n",
    "        bool_flag=True\n",
    "        verify_product_id=validate_product(product_id)\n",
    "        if(not verify_product_id):\n",
    "            err_msg= \"invalid product id\"\n",
    "            bool_flag=False\n",
    "        total_Sales=sales_amount(quantity,sales,product_id)\n",
    "        verify_date=validate_order_date(order_date)\n",
    "        if(not verify_date):\n",
    "            err_msg= \"invalid date\"\n",
    "            bool_flag=False\n",
    "        verify_city=validate_city(city)\n",
    "        if(not verify_city):\n",
    "            err_msg= \"invalid city\"\n",
    "            bool_flag=False\n",
    "        if(order_date is None or product_id is None or quantity is None or sales is None or city is None ):\n",
    "            err_msg= \"invalid input\"\n",
    "            bool_flag=False\n",
    "        if(bool_flag):\n",
    "            success_orders+=1\n",
    "            folder_path=success_file_path+\"\\\\\"+order_date\n",
    "            file_path=success_file_path+\"\\\\\"+order_date+\"\\\\\"+str(product_id)+str(order_id)+\".csv\"\n",
    "            if not os.path.exists(folder_path):\n",
    "                try:\n",
    "                    os.makedirs(folder_path,mode=0o777,exist_ok=True)   \n",
    "                except PermissionError as e:\n",
    "                    print(f\"Permission error: {e}\")\n",
    "                except Exception as e:\n",
    "                    print(f\"An error occurred: {e}\")\n",
    "            with open(file_path,mode='w') as f:\n",
    "                f.write(file_list[j])\n",
    "        else:\n",
    "            rejected_orders+=1\n",
    "            folder_path=rejected_file_path+\"\\\\\"+order_date\n",
    "            file_path=rejected_file_path+\"\\\\\"+order_date+\"\\\\\"+str(product_id)+str(order_id)+\".csv\"\n",
    "            if not os.path.exists(folder_path):\n",
    "                try:\n",
    "                    os.makedirs(folder_path,mode=0o777,exist_ok=True)\n",
    "                except PermissionError as e:\n",
    "                    print(f\"Permission error: {e}\")\n",
    "                except Exception as e:\n",
    "                    print(f\"An error occurred: {e}\")                \n",
    "            with open(file_path,mode='w') as f:\n",
    "                f.write(file_list[j]+err_msg)\n",
    "        subject=\"validation email \"+order_date\n",
    "        body=\"total \"+str(total_orders)+\" incoming files , \"+str(success_orders)+\" successsful files and \"+str(rejected_orders)+\" rejected files for that day.\"\n",
    "        send_email(subject,body)\n",
    "    return total_orders,success_orders,rejected_orders\n",
    "            \n",
    "        "
   ]
  },
  {
   "cell_type": "code",
   "execution_count": 18,
   "id": "950775d1",
   "metadata": {},
   "outputs": [],
   "source": [
    "import smtplib\n",
    "from email.mime.text import MIMEText\n",
    "def send_email(subject, body):\n",
    "    sender = \"s46634184@gmail.com\"\n",
    "    recipients = \"xxx@gmail.com\"\n",
    "    password = \"xxxx\"\n",
    "    msg = MIMEText(body)\n",
    "    msg['Subject'] = subject\n",
    "    msg['From'] = sender\n",
    "    msg['To'] = recipients\n",
    "    with smtplib.SMTP_SSL('smtp.gmail.com', 465) as smtp_server:\n",
    "       smtp_server.login(sender, password)\n",
    "       smtp_server.sendmail(sender, recipients, msg.as_string())\n",
    "    print(\"Message sent!\")"
   ]
  },
  {
   "cell_type": "code",
   "execution_count": 19,
   "id": "83ea75de",
   "metadata": {},
   "outputs": [
    {
     "name": "stdout",
     "output_type": "stream",
     "text": [
      "2024-01-01\n"
     ]
    },
    {
     "ename": "SMTPAuthenticationError",
     "evalue": "(535, b'5.7.8 Username and Password not accepted. For more information, go to\\n5.7.8  https://support.google.com/mail/?p=BadCredentials lp17-20020a056a003d5100b006ddd182bf1csm4774712pfb.46 - gsmtp')",
     "output_type": "error",
     "traceback": [
      "\u001b[1;31m---------------------------------------------------------------------------\u001b[0m",
      "\u001b[1;31mSMTPAuthenticationError\u001b[0m                   Traceback (most recent call last)",
      "Cell \u001b[1;32mIn[19], line 1\u001b[0m\n\u001b[1;32m----> 1\u001b[0m validate_input(file_list)\n",
      "Cell \u001b[1;32mIn[17], line 59\u001b[0m, in \u001b[0;36mvalidate_input\u001b[1;34m(file_list)\u001b[0m\n\u001b[0;32m     57\u001b[0m     subject\u001b[38;5;241m=\u001b[39m\u001b[38;5;124m\"\u001b[39m\u001b[38;5;124mvalidation email \u001b[39m\u001b[38;5;124m\"\u001b[39m\u001b[38;5;241m+\u001b[39morder_date\n\u001b[0;32m     58\u001b[0m     body\u001b[38;5;241m=\u001b[39m\u001b[38;5;124m\"\u001b[39m\u001b[38;5;124mtotal \u001b[39m\u001b[38;5;124m\"\u001b[39m\u001b[38;5;241m+\u001b[39m\u001b[38;5;28mstr\u001b[39m(total_orders)\u001b[38;5;241m+\u001b[39m\u001b[38;5;124m\"\u001b[39m\u001b[38;5;124m incoming files , \u001b[39m\u001b[38;5;124m\"\u001b[39m\u001b[38;5;241m+\u001b[39m\u001b[38;5;28mstr\u001b[39m(success_orders)\u001b[38;5;241m+\u001b[39m\u001b[38;5;124m\"\u001b[39m\u001b[38;5;124m successsful files and \u001b[39m\u001b[38;5;124m\"\u001b[39m\u001b[38;5;241m+\u001b[39m\u001b[38;5;28mstr\u001b[39m(rejected_orders)\u001b[38;5;241m+\u001b[39m\u001b[38;5;124m\"\u001b[39m\u001b[38;5;124m rejected files for that day.\u001b[39m\u001b[38;5;124m\"\u001b[39m\n\u001b[1;32m---> 59\u001b[0m     send_email(subject,body)\n\u001b[0;32m     60\u001b[0m \u001b[38;5;28;01mreturn\u001b[39;00m total_orders,success_orders,rejected_orders\n",
      "Cell \u001b[1;32mIn[18], line 12\u001b[0m, in \u001b[0;36msend_email\u001b[1;34m(subject, body)\u001b[0m\n\u001b[0;32m     10\u001b[0m msg[\u001b[38;5;124m'\u001b[39m\u001b[38;5;124mTo\u001b[39m\u001b[38;5;124m'\u001b[39m] \u001b[38;5;241m=\u001b[39m recipients\n\u001b[0;32m     11\u001b[0m \u001b[38;5;28;01mwith\u001b[39;00m smtplib\u001b[38;5;241m.\u001b[39mSMTP_SSL(\u001b[38;5;124m'\u001b[39m\u001b[38;5;124msmtp.gmail.com\u001b[39m\u001b[38;5;124m'\u001b[39m, \u001b[38;5;241m465\u001b[39m) \u001b[38;5;28;01mas\u001b[39;00m smtp_server:\n\u001b[1;32m---> 12\u001b[0m    smtp_server\u001b[38;5;241m.\u001b[39mlogin(sender, password)\n\u001b[0;32m     13\u001b[0m    smtp_server\u001b[38;5;241m.\u001b[39msendmail(sender, recipients, msg\u001b[38;5;241m.\u001b[39mas_string())\n\u001b[0;32m     14\u001b[0m \u001b[38;5;28mprint\u001b[39m(\u001b[38;5;124m\"\u001b[39m\u001b[38;5;124mMessage sent!\u001b[39m\u001b[38;5;124m\"\u001b[39m)\n",
      "File \u001b[1;32mC:\\ProgramData\\anaconda3\\Lib\\smtplib.py:750\u001b[0m, in \u001b[0;36mSMTP.login\u001b[1;34m(self, user, password, initial_response_ok)\u001b[0m\n\u001b[0;32m    747\u001b[0m         last_exception \u001b[38;5;241m=\u001b[39m e\n\u001b[0;32m    749\u001b[0m \u001b[38;5;66;03m# We could not login successfully.  Return result of last attempt.\u001b[39;00m\n\u001b[1;32m--> 750\u001b[0m \u001b[38;5;28;01mraise\u001b[39;00m last_exception\n",
      "File \u001b[1;32mC:\\ProgramData\\anaconda3\\Lib\\smtplib.py:739\u001b[0m, in \u001b[0;36mSMTP.login\u001b[1;34m(self, user, password, initial_response_ok)\u001b[0m\n\u001b[0;32m    737\u001b[0m method_name \u001b[38;5;241m=\u001b[39m \u001b[38;5;124m'\u001b[39m\u001b[38;5;124mauth_\u001b[39m\u001b[38;5;124m'\u001b[39m \u001b[38;5;241m+\u001b[39m authmethod\u001b[38;5;241m.\u001b[39mlower()\u001b[38;5;241m.\u001b[39mreplace(\u001b[38;5;124m'\u001b[39m\u001b[38;5;124m-\u001b[39m\u001b[38;5;124m'\u001b[39m, \u001b[38;5;124m'\u001b[39m\u001b[38;5;124m_\u001b[39m\u001b[38;5;124m'\u001b[39m)\n\u001b[0;32m    738\u001b[0m \u001b[38;5;28;01mtry\u001b[39;00m:\n\u001b[1;32m--> 739\u001b[0m     (code, resp) \u001b[38;5;241m=\u001b[39m \u001b[38;5;28mself\u001b[39m\u001b[38;5;241m.\u001b[39mauth(\n\u001b[0;32m    740\u001b[0m         authmethod, \u001b[38;5;28mgetattr\u001b[39m(\u001b[38;5;28mself\u001b[39m, method_name),\n\u001b[0;32m    741\u001b[0m         initial_response_ok\u001b[38;5;241m=\u001b[39minitial_response_ok)\n\u001b[0;32m    742\u001b[0m     \u001b[38;5;66;03m# 235 == 'Authentication successful'\u001b[39;00m\n\u001b[0;32m    743\u001b[0m     \u001b[38;5;66;03m# 503 == 'Error: already authenticated'\u001b[39;00m\n\u001b[0;32m    744\u001b[0m     \u001b[38;5;28;01mif\u001b[39;00m code \u001b[38;5;129;01min\u001b[39;00m (\u001b[38;5;241m235\u001b[39m, \u001b[38;5;241m503\u001b[39m):\n",
      "File \u001b[1;32mC:\\ProgramData\\anaconda3\\Lib\\smtplib.py:662\u001b[0m, in \u001b[0;36mSMTP.auth\u001b[1;34m(self, mechanism, authobject, initial_response_ok)\u001b[0m\n\u001b[0;32m    660\u001b[0m \u001b[38;5;28;01mif\u001b[39;00m code \u001b[38;5;129;01min\u001b[39;00m (\u001b[38;5;241m235\u001b[39m, \u001b[38;5;241m503\u001b[39m):\n\u001b[0;32m    661\u001b[0m     \u001b[38;5;28;01mreturn\u001b[39;00m (code, resp)\n\u001b[1;32m--> 662\u001b[0m \u001b[38;5;28;01mraise\u001b[39;00m SMTPAuthenticationError(code, resp)\n",
      "\u001b[1;31mSMTPAuthenticationError\u001b[0m: (535, b'5.7.8 Username and Password not accepted. For more information, go to\\n5.7.8  https://support.google.com/mail/?p=BadCredentials lp17-20020a056a003d5100b006ddd182bf1csm4774712pfb.46 - gsmtp')"
     ]
    }
   ],
   "source": [
    "validate_input(file_list)"
   ]
  },
  {
   "cell_type": "code",
   "execution_count": null,
   "id": "859d8e0a",
   "metadata": {},
   "outputs": [],
   "source": []
  },
  {
   "cell_type": "code",
   "execution_count": null,
   "id": "f1c7f5ee",
   "metadata": {},
   "outputs": [],
   "source": []
  }
 ],
 "metadata": {
  "kernelspec": {
   "display_name": "Python 3 (ipykernel)",
   "language": "python",
   "name": "python3"
  },
  "language_info": {
   "codemirror_mode": {
    "name": "ipython",
    "version": 3
   },
   "file_extension": ".py",
   "mimetype": "text/x-python",
   "name": "python",
   "nbconvert_exporter": "python",
   "pygments_lexer": "ipython3",
   "version": "3.11.5"
  }
 },
 "nbformat": 4,
 "nbformat_minor": 5
}
